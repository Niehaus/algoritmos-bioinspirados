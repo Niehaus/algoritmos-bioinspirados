{
 "metadata": {
  "language_info": {
   "codemirror_mode": {
    "name": "ipython",
    "version": 3
   },
   "file_extension": ".py",
   "mimetype": "text/x-python",
   "name": "python",
   "nbconvert_exporter": "python",
   "pygments_lexer": "ipython3",
   "version": "3.8.6-final"
  },
  "orig_nbformat": 2,
  "kernelspec": {
   "name": "Python 3.8.6 64-bit",
   "display_name": "Python 3.8.6 64-bit",
   "metadata": {
    "interpreter": {
     "hash": "70bda55ef8f621806a4cb4a910d47a2cbacf2da3691c6e60b1b7051fc3a89d4d"
    }
   }
  }
 },
 "nbformat": 4,
 "nbformat_minor": 2,
 "cells": [
  {
   "cell_type": "code",
   "execution_count": 1,
   "metadata": {},
   "outputs": [],
   "source": [
    "import matplotlib\n",
    "import matplotlib.pyplot as plt\n",
    "import numpy as np\n",
    "import pandas as pd\n",
    "import os\n",
    "import plotly.graph_objects as go\n",
    "from plotly.subplots import make_subplots"
   ]
  },
  {
   "cell_type": "code",
   "execution_count": 2,
   "metadata": {},
   "outputs": [
    {
     "output_type": "stream",
     "name": "stdout",
     "text": [
      "['01', '02', '03', '04', '05', '06', '07', '08']\nc:\\Users\\Barba\\Documents\\GitHub\\algoritmos-bioinspirados\\Barbara-Tutorial3\\datasets\n"
     ]
    }
   ],
   "source": [
    "root_folder = 'datasets'\n",
    "os.chdir('datasets')\n",
    "list_dir = os.listdir()\n",
    "print(list_dir)\n",
    "print(os.getcwd())"
   ]
  },
  {
   "cell_type": "code",
   "execution_count": 3,
   "metadata": {},
   "outputs": [],
   "source": [
    "def DefineList(instancia, medias):\n",
    "    media = []\n",
    "    std_medio = []\n",
    "    best_medio = []\n",
    "    instancia_id = []\n",
    "    for i in range(instancia):\n",
    "        media.append(round(np.mean(medias[i]['avg_fitness'])))\n",
    "        std_medio.append(round(np.mean(medias[i]['std_fitness'])))\n",
    "        best_medio.append(round(np.mean(medias[i]['best_of_gen'])))\n",
    "        instancia_id.append(i + 1)\n",
    "    return media, std_medio, best_medio, instancia_id \n",
    "\n",
    "def TabelaProblema(instancia, medias, folder):\n",
    "\n",
    "    media, std_medio, best_medio, instancia_id  = DefineList(instancia, medias)\n",
    "    \n",
    "    rowEvenColor = 'lightgrey'\n",
    "    rowOddColor = 'white'\n",
    "    headerColor = 'grey'\n",
    "\n",
    "    table = {'instancia': instancia_id, 'fo_media': media, 'std_medio': std_medio, 'best_medio': best_medio}\n",
    "    table_df = pd.DataFrame(table)\n",
    "    fig = go.Figure(data=[go.Table(\n",
    "    header=dict(\n",
    "    values=['<b>Instância</b>','<b>FO Média</b>','<b>Desvio P. Medio</b>','<b>Best Médio</b>'],\n",
    "    line_color='darkslategray',\n",
    "    fill_color=headerColor,\n",
    "    font=dict(color='white', size=12),\n",
    "                align='center'),\n",
    "    cells=dict(values=[table_df.instancia, table_df.fo_media, table_df.std_medio, table_df.best_medio],\n",
    "     line_color='darkslategray',\n",
    "     fill_color = [[rowOddColor,rowEvenColor,rowOddColor, rowEvenColor,rowOddColor]*5],\n",
    "     font = dict(color = 'darkslategray', size = 11),\n",
    "               align='center'))\n",
    "    ],\n",
    "    layout=go.Layout(\n",
    "        title=go.layout.Title(text=\"Tabela de Instâncias - Problema \" + folder)\n",
    "        )\n",
    "    )\n",
    "\n",
    "    fig.write_image(\"plot_media_table.png\", engine=\"kaleido\")    \n",
    "\n",
    "    media, std_medio, best_medio, instancia_id  = DefineList(81, medias)\n",
    "    index = np.argmax(media)\n",
    "\n",
    "    best = {'instancia': instancia_id[index], 'fo_media': media[index], 'std_medio': std_medio[index], 'best_medio': best_medio[index]}\n",
    "    best_inst = pd.DataFrame(best,  index=[0])\n",
    "    fig2 = go.Figure(data=[go.Table(\n",
    "    header=dict(\n",
    "    values=['<b>Instância</b>','<b>FO Média</b>','<b>Desvio P. Medio</b>','<b>Best Médio</b>'],\n",
    "    line_color='darkslategray',\n",
    "    fill_color=headerColor,\n",
    "    font=dict(color='white', size=12),\n",
    "                align='center'),\n",
    "    cells=dict(values=[best_inst.instancia, best_inst.fo_media, best_inst.std_medio, best_inst.best_medio],\n",
    "     line_color='darkslategray',\n",
    "     fill_color = [[rowOddColor,rowEvenColor,rowOddColor, rowEvenColor,rowOddColor]*5],\n",
    "     font = dict(color = 'darkslategray', size = 11),\n",
    "               align='center'))\n",
    "    ],\n",
    "    layout=go.Layout(\n",
    "        title=go.layout.Title(text=\"Melhor Instância - Problema \" + folder)\n",
    "        )\n",
    "    )\n",
    "\n",
    "    fig2.write_image(\"plot_best_inst.png\", engine=\"kaleido\")    \n",
    "# print(np.mean(medias[0:1]['avg_fitness']))\n",
    "# print(np.mean(medias[1]['avg_fitness']))"
   ]
  },
  {
   "cell_type": "code",
   "execution_count": 4,
   "metadata": {},
   "outputs": [],
   "source": [
    "\n",
    "def GetResults():\n",
    "    medias = []\n",
    "    avg = []\n",
    "    exe = []\n",
    "    for folder in os.listdir():\n",
    "        os.chdir(folder)\n",
    "        os.chdir('resultados' + folder)\n",
    "        for sub_folder in os.listdir():\n",
    "            if sub_folder != 'plot_media_table.png' and sub_folder != 'plot_best_inst.png':\n",
    "                # print(folder, sub_folder , \"->\")\n",
    "                os.chdir(sub_folder)\n",
    "                for file in os.listdir():\n",
    "                    if file != 'media-geral.csv': \n",
    "                        df = pd.read_csv(file)\n",
    "                        avg.append(df)\n",
    "                data_frame = pd.concat(avg, axis=0, ignore_index=True)\n",
    "                medias.append(data_frame)\n",
    "                path = \"\"\n",
    "                data_frame.to_csv (os.path.join(path, r'media-geral.csv'), index = False, header=True)\n",
    "                avg = []\n",
    "                os.chdir(\"..\")\n",
    "        TabelaProblema(14, medias, folder)\n",
    "        medias = []\n",
    "        os.chdir(\"..\")\n",
    "        os.chdir(\"..\")\n",
    "    print(\"all \")"
   ]
  },
  {
   "cell_type": "code",
   "execution_count": 5,
   "metadata": {
    "tags": []
   },
   "outputs": [
    {
     "output_type": "stream",
     "name": "stdout",
     "text": [
      "all \n"
     ]
    }
   ],
   "source": [
    "GetResults()"
   ]
  },
  {
   "cell_type": "code",
   "execution_count": null,
   "metadata": {},
   "outputs": [],
   "source": []
  }
 ]
}